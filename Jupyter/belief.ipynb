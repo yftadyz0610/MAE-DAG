{
 "cells": [
  {
   "cell_type": "markdown",
   "id": "35bccacb",
   "metadata": {
    "pycharm": {
     "name": "#%% md\n"
    }
   },
   "source": [
    "# Config"
   ]
  },
  {
   "cell_type": "code",
   "execution_count": null,
   "outputs": [],
   "source": [
    "import json"
   ],
   "metadata": {
    "collapsed": false,
    "pycharm": {
     "name": "#%%\n"
    }
   }
  },
  {
   "cell_type": "code",
   "execution_count": null,
   "id": "b4614d90",
   "metadata": {
    "pycharm": {
     "name": "#%%\n"
    }
   },
   "outputs": [],
   "source": [
    "from zhipuai import ZhipuAI\n",
    "client = ZhipuAI(api_key=\"\") # input your own APIKey\n",
    "response = client.chat.completions.create(\n",
    "    model=\"glm-4\",  \n",
    "    messages=[\n",
    "        {\"role\": \"user\", \"content\": \"your prompt\"},\n",
    "    ],\n",
    ")\n",
    "print(response.choices[0].message)"
   ]
  },
  {
   "cell_type": "code",
   "execution_count": null,
   "id": "c955f7c5",
   "metadata": {
    "pycharm": {
     "name": "#%%\n"
    }
   },
   "outputs": [],
   "source": []
  },
  {
   "cell_type": "code",
   "execution_count": null,
   "id": "83e23c30",
   "metadata": {
    "pycharm": {
     "name": "#%%\n"
    }
   },
   "outputs": [],
   "source": []
  },
  {
   "cell_type": "markdown",
   "id": "eccb129a",
   "metadata": {
    "pycharm": {
     "name": "#%% md\n"
    }
   },
   "source": [
    "# Food Entity"
   ]
  },
  {
   "cell_type": "code",
   "execution_count": 1,
   "id": "22524473",
   "metadata": {
    "pycharm": {
     "name": "#%%\n"
    }
   },
   "outputs": [],
   "source": [
    "from nltk.corpus import wordnet as wn"
   ]
  },
  {
   "cell_type": "code",
   "execution_count": 2,
   "id": "a6fb4192",
   "metadata": {
    "pycharm": {
     "name": "#%%\n"
    }
   },
   "outputs": [
    {
     "data": {
      "text/plain": [
       "[Synset('food.n.01'), Synset('food.n.02'), Synset('food.n.03')]"
      ]
     },
     "execution_count": 2,
     "metadata": {},
     "output_type": "execute_result"
    }
   ],
   "source": [
    "wn.synsets('food')"
   ]
  },
  {
   "cell_type": "code",
   "execution_count": 4,
   "id": "03fafccb",
   "metadata": {
    "pycharm": {
     "name": "#%%\n"
    }
   },
   "outputs": [
    {
     "name": "stdout",
     "output_type": "stream",
     "text": [
      "any substance that can be metabolized by an animal to give energy and build tissue\n",
      "any solid substance (as opposed to liquid) that is used as a source of nourishment\n",
      "anything that provides mental stimulus for thinking\n"
     ]
    }
   ],
   "source": [
    "for f in wn.synsets('food'):\n",
    "    print(f.definition())"
   ]
  },
  {
   "cell_type": "code",
   "execution_count": 5,
   "id": "7e9a174f",
   "metadata": {
    "pycharm": {
     "name": "#%%\n"
    }
   },
   "outputs": [
    {
     "data": {
      "text/plain": [
       "[Synset('baked_goods.n.01'),\n",
       " Synset('breakfast_food.n.01'),\n",
       " Synset('butter.n.01'),\n",
       " Synset('cheese.n.01'),\n",
       " Synset('chocolate.n.02'),\n",
       " Synset('coconut.n.01'),\n",
       " Synset('convenience_food.n.01'),\n",
       " Synset('dika_bread.n.01'),\n",
       " Synset('fish.n.02'),\n",
       " Synset('fresh_food.n.01'),\n",
       " Synset('health_food.n.01'),\n",
       " Synset('junk_food.n.01'),\n",
       " Synset('leftovers.n.01'),\n",
       " Synset('loaf.n.02'),\n",
       " Synset('meat.n.01'),\n",
       " Synset('pasta.n.02'),\n",
       " Synset('produce.n.01'),\n",
       " Synset('seafood.n.01'),\n",
       " Synset('slop.n.04'),\n",
       " Synset('yogurt.n.01')]"
      ]
     },
     "execution_count": 5,
     "metadata": {},
     "output_type": "execute_result"
    }
   ],
   "source": [
    "# choose \"any solid substance (as opposed to liquid) that is used as a source of nourishment\" as the start root for food entity search\n",
    "\n",
    "\n",
    "syn=wn.synset('food.n.02')\n",
    "syn.hyponyms()"
   ]
  },
  {
   "cell_type": "code",
   "execution_count": 6,
   "id": "cfbdecde",
   "metadata": {
    "pycharm": {
     "name": "#%%\n"
    }
   },
   "outputs": [
    {
     "data": {
      "text/plain": [
       "[Synset('beverage.n.01'),\n",
       " Synset('chyme.n.01'),\n",
       " Synset('comestible.n.01'),\n",
       " Synset('comfort_food.n.01'),\n",
       " Synset('commissariat.n.01'),\n",
       " Synset('culture_medium.n.01'),\n",
       " Synset('fare.n.04'),\n",
       " Synset('feed.n.01'),\n",
       " Synset('foodstuff.n.02'),\n",
       " Synset('micronutrient.n.01'),\n",
       " Synset('miraculous_food.n.01'),\n",
       " Synset('nutriment.n.01'),\n",
       " Synset('soul_food.n.01'),\n",
       " Synset('water.n.06'),\n",
       " Synset('yolk.n.02')]"
      ]
     },
     "execution_count": 6,
     "metadata": {},
     "output_type": "execute_result"
    }
   ],
   "source": [
    "# any substance that can be metabolized by an animal to give energy and build tissue\n",
    "# set a black list\n",
    "syn=wn.synset('food.n.01')\n",
    "syn.hyponyms()"
   ]
  },
  {
   "cell_type": "code",
   "execution_count": 8,
   "id": "d6f9c25b",
   "metadata": {
    "pycharm": {
     "name": "#%%\n"
    }
   },
   "outputs": [],
   "source": [
    "blacks=['chyme.n.01','comestible.n.01','comfort_food.n.01','commissariat.n.01',\n",
    "       'culture_medium.n.01','micronutrient.n.01','miraculous_food.n.01',\n",
    "       'soul_food.n.01']"
   ]
  },
  {
   "cell_type": "code",
   "execution_count": 9,
   "id": "52d0b134",
   "metadata": {
    "pycharm": {
     "name": "#%%\n"
    }
   },
   "outputs": [],
   "source": [
    "# Word, POS, SynsetTerm, Gloss, Need\n",
    "# Depth-First-Search\n",
    "\n",
    "from queue import LifoQueue\n",
    "\n",
    "dps=LifoQueue(maxsize=1000000)\n",
    "\n",
    "#food_concept={} # food_word:ancestor_food_word\n",
    "dps.put(wn.synset('food.n.01'))\n",
    "dps.put(wn.synset('food.n.02'))\n",
    "\n",
    "food_concept={} # food_word:synset_list[]\n",
    "\n",
    "while dps.qsize()>0:\n",
    "    cur=dps.get()\n",
    "    if cur.name() in blacks:\n",
    "        pass\n",
    "    else:\n",
    "        concept=cur.name().split('.')[0]\n",
    "        if concept not in food_concept:\n",
    "            food_concept[concept]=[]\n",
    "        food_concept[concept].append(cur.name()) # add its tag for indexing\n",
    "        for child in cur.hyponyms():\n",
    "            dps.put(child)"
   ]
  },
  {
   "cell_type": "code",
   "execution_count": 10,
   "id": "0e200667",
   "metadata": {
    "pycharm": {
     "name": "#%%\n"
    }
   },
   "outputs": [
    {
     "data": {
      "text/plain": [
       "2370"
      ]
     },
     "execution_count": 10,
     "metadata": {},
     "output_type": "execute_result"
    }
   ],
   "source": [
    "len(food_concept)"
   ]
  },
  {
   "cell_type": "code",
   "execution_count": null,
   "id": "24bc4c54",
   "metadata": {
    "pycharm": {
     "name": "#%%\n"
    }
   },
   "outputs": [],
   "source": [
    "with open(\"Data/food_concept_v2.json\", \"w\") as outfile:\n",
    "    json.dump(food_concept, outfile)\n",
    "\n",
    "#with open(\"Data/food_concept.json\", \"r\") as infile:\n",
    "#    food_concept=json.load(infile)"
   ]
  },
  {
   "cell_type": "markdown",
   "id": "5c30587d",
   "metadata": {
    "pycharm": {
     "name": "#%% md\n"
    }
   },
   "source": [
    "## Different Senses"
   ]
  },
  {
   "cell_type": "markdown",
   "id": "47da337d",
   "metadata": {
    "pycharm": {
     "name": "#%% md\n"
    }
   },
   "source": [
    "    If a word has several senses, among which both food related and unrelated exist, badcases would arise in real applications. For example, \"you have a glass cup\" is related to food if \"cup\" takes the sense of \"a punch served in a pitcher instead of a punch bowl\" provided in WordNet. But in that sentence, \"cup\" is more likely to bear the sense of \"a small open container usually used for drinking; usually has a handle\".\n",
    "    \n",
    "    We take this solution: remove words with food unrelated senses to keep a high precision with allowing a relatively low recall."
   ]
  },
  {
   "cell_type": "code",
   "execution_count": 11,
   "id": "18d366aa",
   "metadata": {
    "pycharm": {
     "name": "#%%\n"
    }
   },
   "outputs": [
    {
     "data": {
      "text/plain": [
       "2370"
      ]
     },
     "execution_count": 11,
     "metadata": {},
     "output_type": "execute_result"
    }
   ],
   "source": [
    "len(food_concept)"
   ]
  },
  {
   "cell_type": "code",
   "execution_count": 12,
   "id": "ea22d98c",
   "metadata": {
    "pycharm": {
     "name": "#%%\n"
    }
   },
   "outputs": [
    {
     "data": {
      "text/plain": [
       "\"    print(x)\\n    print('|'.join(y))\\n    print('---------------')\\n    cnt+=1\\n    if cnt>20:\\n        break\""
      ]
     },
     "execution_count": 12,
     "metadata": {},
     "output_type": "execute_result"
    }
   ],
   "source": [
    "food_concept_diff_senses={}\n",
    "for x,y in  food_concept.items():\n",
    "    max_num=0\n",
    "    for yy in y:\n",
    "        _id=int(yy.split('.')[-1])\n",
    "        if _id>max_num:\n",
    "            max_num=_id\n",
    "    if max_num>1:\n",
    "        food_concept_diff_senses[x]=y\n",
    "        \n",
    "\"\"\"    print(x)\n",
    "    print('|'.join(y))\n",
    "    print('---------------')\n",
    "    cnt+=1\n",
    "    if cnt>20:\n",
    "        break\"\"\""
   ]
  },
  {
   "cell_type": "code",
   "execution_count": 13,
   "id": "a3352d01",
   "metadata": {
    "pycharm": {
     "name": "#%%\n"
    }
   },
   "outputs": [
    {
     "data": {
      "text/plain": [
       "579"
      ]
     },
     "execution_count": 13,
     "metadata": {},
     "output_type": "execute_result"
    }
   ],
   "source": [
    "len(food_concept_diff_senses)"
   ]
  },
  {
   "cell_type": "code",
   "execution_count": null,
   "id": "8ea7b9f9",
   "metadata": {
    "pycharm": {
     "name": "#%%\n"
    }
   },
   "outputs": [],
   "source": [
    "for x,y in  food_concept_diff_senses.items():\n",
    "    print(x)\n",
    "    print('|'.join(y))\n",
    "    print('---------------')"
   ]
  },
  {
   "cell_type": "code",
   "execution_count": 14,
   "id": "ddf0dc88",
   "metadata": {
    "pycharm": {
     "name": "#%%\n"
    }
   },
   "outputs": [
    {
     "data": {
      "text/plain": [
       "528"
      ]
     },
     "execution_count": 14,
     "metadata": {},
     "output_type": "execute_result"
    }
   ],
   "source": [
    "food_concept_diff_senses2={}\n",
    "for x,y in  food_concept.items():\n",
    "    max_num=0\n",
    "    _ids=[]\n",
    "    for yy in y:\n",
    "        _id=int(yy.split('.')[-1])\n",
    "        _ids.append(_id)\n",
    "        if _id>max_num:\n",
    "            max_num=_id\n",
    "    if max_num>1 and len(_ids)!=max_num:\n",
    "        food_concept_diff_senses2[x]=y\n",
    "        \n",
    "len(food_concept_diff_senses2)"
   ]
  },
  {
   "cell_type": "code",
   "execution_count": 15,
   "id": "19b0f43a",
   "metadata": {
    "pycharm": {
     "name": "#%%\n"
    }
   },
   "outputs": [
    {
     "data": {
      "text/plain": [
       "1842"
      ]
     },
     "execution_count": 15,
     "metadata": {},
     "output_type": "execute_result"
    }
   ],
   "source": [
    "food_concept_single_senses={}\n",
    "for x,y in food_concept.items():\n",
    "    if x not in food_concept_diff_senses2:\n",
    "        food_concept_single_senses[x]=y\n",
    "\n",
    "len(food_concept_single_senses)"
   ]
  },
  {
   "cell_type": "code",
   "execution_count": null,
   "id": "dd8d9b08",
   "metadata": {
    "pycharm": {
     "name": "#%%\n"
    }
   },
   "outputs": [],
   "source": [
    "with open(\"Data/food_concept_v2_single_sense.json\", \"w\") as outfile:\n",
    "    json.dump(food_concept_single_senses, outfile)"
   ]
  },
  {
   "cell_type": "markdown",
   "id": "66be5391",
   "metadata": {
    "pycharm": {
     "name": "#%% md\n"
    }
   },
   "source": [
    "# Emotion"
   ]
  },
  {
   "cell_type": "markdown",
   "id": "e738490a",
   "metadata": {
    "pycharm": {
     "name": "#%% md\n"
    }
   },
   "source": [
    "In 1987, Shaver and his colleagues published Emotion Knowledge: Further Exploration of a Prototype Approach where they outlined a three-level hierarchy of emotions and categorized words within that hierarchy. In the paper, they identified six primary emotions: Anger, Fear, Joy, Love, Sadness, and Surprise – And they identified 25 secondary emotions and 135 words that represent more descriptive tertiary emotions.\n",
    "\n",
    "@article{shaver1987emotion,\n",
    "  title={Emotion knowledge: further exploration of a prototype approach.},\n",
    "  author={Shaver, Phillip and Schwartz, Judith and Kirson, Donald and O'connor, Cary},\n",
    "  journal={Journal of personality and social psychology},\n",
    "  volume={52},\n",
    "  number={6},\n",
    "  pages={1061},\n",
    "  year={1987},\n",
    "  publisher={American Psychological Association}\n",
    "}\n",
    "\n",
    "https://www.centervention.com/list-of-emotions-135-words-that-express-feelings/"
   ]
  },
  {
   "cell_type": "markdown",
   "id": "63cf165e",
   "metadata": {
    "pycharm": {
     "name": "#%% md\n"
    }
   },
   "source": [
    "## Noun"
   ]
  },
  {
   "cell_type": "code",
   "execution_count": 373,
   "id": "59cd0a3d",
   "metadata": {
    "pycharm": {
     "name": "#%%\n"
    }
   },
   "outputs": [],
   "source": [
    "# noun seed\n",
    "\n",
    "emotion={}\n",
    "emotion['Joy']={}\n",
    "emotion['Love']={}\n",
    "emotion['Anger']={}\n",
    "emotion['Fear']={}\n",
    "emotion['Sadness']={}\n",
    "emotion['Surprise']={}\n",
    "\n",
    "emotion['Joy']['Cheerfulness']=['amusement', 'bliss', 'cheerfulness', 'delight', 'ecstasy', 'elation', \n",
    "                                'enjoyment', 'euphoria', 'gaiety', 'gladness', 'glee', 'happiness', \n",
    "                                'jolliness', 'joviality', 'joy', 'jubilation', 'satisfaction']\n",
    "emotion['Joy']['Contentment']=['contentment', 'pleasure']\n",
    "emotion['Joy']['Enthrallment']=['enthrallment', 'rapture']\n",
    "emotion['Joy']['Optimism']=['eagerness', 'hope', 'optimism']\n",
    "emotion['Joy']['Pride']=['pride', 'triumph']\n",
    "emotion['Joy']['Relief']=['relief']\n",
    "emotion['Joy']['Zest']=['enthusiasm', 'excitement', 'exhilaration', 'thrill', 'zeal', 'zest']\n",
    "\n",
    "\n",
    "emotion['Love']['Affection']=['adoration', 'affection', 'attraction', 'caring', 'compassion', 'fondness', \n",
    "                              'liking', 'love', 'sentimentality', 'tenderness']\n",
    "emotion['Love']['Longing']=['longing']\n",
    "emotion['Love']['Lust']=['arousal', 'desire', 'infatuation', 'lust', 'passion']\n",
    "\n",
    "\n",
    "emotion['Anger']['Disgust']=['contempt', 'disgust', 'revulsion']\n",
    "emotion['Anger']['Envy']=['envy', 'jealousy']\n",
    "emotion['Anger']['Exasperation']=['exasperation', 'frustration']\n",
    "emotion['Anger']['Irritation']=['aggravation', 'agitation', 'annoyance', 'grouchiness', 'grumpiness', 'irritation']\n",
    "emotion['Anger']['Rage']=['anger', 'bitterness', 'dislike', 'ferocity', 'fury', 'hate', 'hostility', 'loathing', 'outrage', 'rage', 'resentment', 'scorn', 'spite', 'vengefulness', 'wrath']\n",
    "emotion['Anger']['Torment']=['torment']\n",
    "\n",
    "\n",
    "emotion['Fear']['Horror']=['alarm', 'fear', 'fright', 'horror', 'hysteria', 'mortification', 'panic', 'shock', 'terror']\n",
    "emotion['Fear']['Nervousness']=['anxiety', 'apprehension', 'distress', 'dread', 'nervousness', 'tenseness', 'uneasiness', 'worry']\n",
    "\n",
    "\n",
    "emotion['Sadness']['Disappointment']=['disappointment', 'dismay', 'displeasure']\n",
    "emotion['Sadness']['Neglect']=['alienation', 'defeat', 'dejection', 'embarrassment', 'homesickness', 'humiliation', 'insecurity', 'isolation', 'insult', 'loneliness', 'neglect', 'rejection']\n",
    "emotion['Sadness']['Sadness']=['Depression', 'despair', 'gloom', 'glumness', 'grief', 'hopelessness', 'melancholy', 'misery', 'sadness', 'sorrow', 'unhappiness', 'woe']\n",
    "emotion['Sadness']['Shame']=['guilt', 'regret', 'remorse', 'shame']\n",
    "emotion['Sadness']['Suffering']=['agony', 'anguish', 'hurt', 'suffering']\n",
    "emotion['Sadness']['Sympathy']=['pity', 'sympathy']\n",
    "\n",
    "\n",
    "emotion['Surprise']['Surprise']=['amazement', 'astonishment', 'surprise']\n",
    "\n"
   ]
  },
  {
   "cell_type": "code",
   "execution_count": 374,
   "id": "bf7ebaa3",
   "metadata": {
    "pycharm": {
     "name": "#%%\n"
    }
   },
   "outputs": [
    {
     "data": {
      "text/plain": [
       "'with open(\"Data/emo_noun_seed.json\", \"r\") as infile:\\n    emotion=json.load(infile)'"
      ]
     },
     "execution_count": 374,
     "metadata": {},
     "output_type": "execute_result"
    }
   ],
   "source": [
    "with open(\"Data/emo_noun_seed.json\", \"w\") as outfile:\n",
    "    json.dump(emotion, outfile)\n",
    "\n",
    "\"\"\"with open(\"Data/emo_noun_seed.json\", \"r\") as infile:\n",
    "    emotion=json.load(infile)\"\"\""
   ]
  },
  {
   "cell_type": "markdown",
   "id": "4a31ce73",
   "metadata": {
    "pycharm": {
     "name": "#%% md\n"
    }
   },
   "source": [
    "## Adj"
   ]
  },
  {
   "cell_type": "code",
   "execution_count": null,
   "id": "e0b17bfa",
   "metadata": {
    "pycharm": {
     "name": "#%%\n"
    }
   },
   "outputs": [],
   "source": [
    "# adj seed\n",
    "\n",
    "emotion={}\n",
    "emotion['Joy']={}\n",
    "emotion['Love']={}\n",
    "emotion['Anger']={}\n",
    "emotion['Fear']={}\n",
    "emotion['Sadness']={}\n",
    "emotion['Surprise']={}\n",
    "\n",
    "emotion['Joy']['Cheerfulness']=['amusing',  'cheerful', 'delightful', \n",
    "                \n",
    "                                'euphoriant', 'glad', 'gleeful', 'happy', \n",
    "                                'jolly', 'jovial', 'joyful']\n",
    "emotion['Joy']['Contentment']=['content', 'pleased']\n",
    "emotion['Joy']['Enthrallment']=['enthralling', 'raptured']\n",
    "emotion['Joy']['Optimism']=['eager', 'hopeful', 'optimistic']\n",
    "emotion['Joy']['Pride']=['proud', 'triumphant']\n",
    "emotion['Joy']['Relief']=['relieved']\n",
    "emotion['Joy']['Zest']=['enthusiastic', 'excited', 'exhilarated', 'thrilled',\n",
    "                        'zealous', 'zesty']\n",
    "\n",
    "\n",
    "emotion['Love']['Affection']=['adorable', 'affectionate', 'attractive', \n",
    "                              'caring', 'compassionate', 'fond', \n",
    "                              'lovely',  'tender']\n",
    "emotion['Love']['Longing']=['longing']\n",
    "emotion['Love']['Lust']=['desired', 'infatuated', 'lusty', 'passionate']\n",
    "\n",
    "\n",
    "emotion['Anger']['Disgust']=['contemptuous', 'disgusting', 'revulsed']\n",
    "emotion['Anger']['Envy']=['envious', 'jealous']\n",
    "emotion['Anger']['Exasperation']=['exasperated', 'frustrated']\n",
    "emotion['Anger']['Irritation']=['aggravated', 'agitated', 'grouchy', \n",
    "                                'grumpy', 'irritated']\n",
    "emotion['Anger']['Rage']=['angry', 'bitter', 'disliked', 'ferocious', \n",
    "                          'furious', 'hateful', 'hostile', 'loathing', \n",
    "                          'outrageous', 'rageful', 'resentful', 'scornful',\n",
    "                          'spiteful', 'vengeful', 'wrathful']\n",
    "\n",
    "\n",
    "emotion['Fear']['Horror']=['alarming', 'fearful', 'frightful','mortified',\n",
    "                           'panic', 'shocked']\n",
    "emotion['Fear']['Nervousness']=['anxious', 'apprehensive', 'distressful',\n",
    "                                'dreadful', 'nervous', 'tense', 'uneasy', \n",
    "                                'worrisome']\n",
    "\n",
    "\n",
    "emotion['Sadness']['Disappointment']=['disappointed', 'displeased']\n",
    "emotion['Sadness']['Neglect']=['alienated', 'dejected', 'embarrassed', \n",
    "                               'homesick', 'insecure', 'isolated', \n",
    "                               'insulted', 'lonely', 'neglectful',]\n",
    "emotion['Sadness']['Sadness']=['depressive', 'despairing', 'gloomy', \n",
    "                               'glum', 'grim', 'hopeless', 'melancholy', \n",
    "                               'miserable', 'sad', 'sorrowful', 'unhappy', \n",
    "                               'woeful']\n",
    "emotion['Sadness']['Shame']=['guilty', 'regretful', 'remorseful', 'shameful']\n",
    "emotion['Sadness']['Suffering']=['agonizing', 'anguished', 'hurtful']\n",
    "emotion['Sadness']['Sympathy']=['pitying', 'sympathetic']\n",
    "\n",
    "\n",
    "emotion['Surprise']['Surprise']=['amazed', 'astonishing', 'surprised']\n",
    "\n",
    "with open(\"Data/emo_adj_seed.json\", \"w\") as outfile:\n",
    "    json.dump(emotion, outfile)"
   ]
  },
  {
   "cell_type": "code",
   "execution_count": null,
   "id": "f09f5bd1",
   "metadata": {
    "pycharm": {
     "name": "#%%\n"
    }
   },
   "outputs": [],
   "source": [
    "# adj extension\n",
    "# also add past participle and present participle of extended verbs\n",
    "\n"
   ]
  },
  {
   "cell_type": "markdown",
   "id": "7ba32edf",
   "metadata": {
    "pycharm": {
     "name": "#%% md\n"
    }
   },
   "source": [
    "## Verb"
   ]
  },
  {
   "cell_type": "code",
   "execution_count": 27,
   "id": "3e915405",
   "metadata": {
    "pycharm": {
     "name": "#%%\n"
    }
   },
   "outputs": [],
   "source": [
    "# verb seed\n",
    "\n",
    "# we try to only keep emotion related glosses in the extended vocabulary. In particular, we remove reasoning-related\n",
    "# glosses, like \"reject\". One difficult is some actions are strongly related to emotion or these actions occur to express\n",
    "# some kind of emotion, like mollycoddle. In this case, we keep these actions in the extended vocabulary.\n",
    "    \n",
    "\n",
    "emotion={}\n",
    "emotion['Joy']={}\n",
    "emotion['Love']={}\n",
    "emotion['Anger']={}\n",
    "emotion['Fear']={}\n",
    "emotion['Sadness']={}\n",
    "emotion['Surprise']={}\n",
    "\n",
    "emotion['Joy']['Cheerfulness']=['amuse', 'cheer', 'delight', 'elate', \n",
    "                                'enjoy', 'glad', 'exult',  \n",
    "                                'jolly', 'joy', 'jubilate', 'satisfy']\n",
    "emotion['Joy']['Contentment']=['please']\n",
    "emotion['Joy']['Enthrallment']=['enthrall', 'captivate']\n",
    "emotion['Joy']['Optimism']=['yearn', 'hope', 'optimize']\n",
    "emotion['Joy']['Pride']=['pride', 'succeed']\n",
    "emotion['Joy']['Relief']=['relieve']\n",
    "emotion['Joy']['Zest']=['enthuse', 'excite', 'exhilarate', 'thrill', 'zest']\n",
    "\n",
    "\n",
    "emotion['Love']['Affection']=['adore', 'attract', 'care', 'like', 'love']\n",
    "emotion['Love']['Longing']=['long']\n",
    "emotion['Love']['Lust']=['arouse', 'desire', 'infatuate', 'lust']\n",
    "\n",
    "\n",
    "emotion['Anger']['Disgust']=['disgust', 'revulse']\n",
    "emotion['Anger']['Envy']=['envy']\n",
    "emotion['Anger']['Exasperation']=['exasperate', 'frustrate']\n",
    "emotion['Anger']['Irritation']=['aggravate', 'agitate', 'annoy', 'grouch', 'grump', 'irritate']\n",
    "emotion['Anger']['Rage']=['anger', 'dislike', 'hate',  'loathe', 'outrage', 'rage', 'resent', 'scorn', 'spite',\n",
    "                          'venge']\n",
    "emotion['Anger']['Torment']=['torment']\n",
    "\n",
    "\n",
    "emotion['Fear']['Horror']=['alarm', 'fear', 'fright', 'panic', 'shock', 'terrify']\n",
    "emotion['Fear']['Nervousness']=['distress', 'dread', 'tense', 'worry']\n",
    "\n",
    "\n",
    "emotion['Sadness']['Disappointment']=['disappoint', 'dismay', 'displease']\n",
    "emotion['Sadness']['Neglect']=['alienate', 'defeat', 'deject', 'embarrass', 'homesickness', 'humiliate', 'isolate', 'insult', 'neglect', 'reject']\n",
    "emotion['Sadness']['Sadness']=['depress', 'despair', 'gloom', 'sorrow']\n",
    "emotion['Sadness']['Shame']=['regret', 'shame']\n",
    "emotion['Sadness']['Suffering']=['agonize', 'anguish', 'hurt', 'suffer']\n",
    "emotion['Sadness']['Sympathy']=['pity', 'sympathize']\n",
    "\n",
    "\n",
    "emotion['Surprise']['Surprise']=['amaze', 'astonish', 'surprise']\n",
    "\n"
   ]
  },
  {
   "cell_type": "code",
   "execution_count": 28,
   "id": "41588084",
   "metadata": {
    "pycharm": {
     "name": "#%%\n"
    }
   },
   "outputs": [],
   "source": [
    "with open(\"Data/emo_verb_seed.json\", \"w\") as outfile:\n",
    "    json.dump(emotion, outfile)"
   ]
  },
  {
   "cell_type": "code",
   "execution_count": null,
   "id": "c8498a53",
   "metadata": {
    "pycharm": {
     "name": "#%%\n"
    }
   },
   "outputs": [],
   "source": [
    "# verb extended\n",
    "\n",
    "extension={}\n",
    "extension['amuse']=['entertain','regale','distract','delight','appease','divert','occupy','solace','please','busy','engross','enchant','interest','captivate','engage','fascinate','involve','console','charm','enthral','disport','comfort','beguile','immerse','enthrall','intrigue','bewitch','gratify','hypnotize','placate','spoil','humor','soothe','mesmerize','pleasure','indulge','pamper','pacify','absorb','mollify','coddle','oblige','content','propitiate','conciliate','grip','mollycoddle']\n",
    "\n",
    "\n"
   ]
  },
  {
   "cell_type": "markdown",
   "id": "60ba4fbd",
   "metadata": {
    "pycharm": {
     "name": "#%% md\n"
    }
   },
   "source": [
    "##  EmoAnomalyDetect"
   ]
  },
  {
   "cell_type": "markdown",
   "source": [
    "    Filter out badcases of emotion words by LLM."
   ],
   "metadata": {
    "collapsed": false,
    "pycharm": {
     "name": "#%% md\n"
    }
   }
  },
  {
   "cell_type": "markdown",
   "id": "71dcf81c",
   "metadata": {
    "pycharm": {
     "name": "#%% md\n"
    }
   },
   "source": [
    "### Positive"
   ]
  },
  {
   "cell_type": "code",
   "execution_count": null,
   "id": "aaa851fd",
   "metadata": {
    "pycharm": {
     "name": "#%%\n"
    }
   },
   "outputs": [],
   "source": [
    "def pos_bad_check(resp):\n",
    "    for s in re.split('\\.|,',resp): # sentence level\n",
    "        s=s.replace('\\n','').split(' ') # bag of words\n",
    "        if 'False' in s:\n",
    "            return True\n",
    "\n",
    "        if 'not' in s and 'positive' in s:\n",
    "            return True\n",
    "\n",
    "    return False\n",
    "\n",
    "\n",
    "        \n",
    "def neg_bad_check(resp):\n",
    "    for s in re.split('\\.|,',resp): # sentence level\n",
    "        s=s.replace('\\n','').split(' ') # bag of words\n",
    "        if 'False' in s:\n",
    "            return True\n",
    "\n",
    "        if 'not' in s and 'negative' in s:\n",
    "            return True\n",
    "\n",
    "    return False"
   ]
  },
  {
   "cell_type": "code",
   "execution_count": null,
   "id": "9b6ef327",
   "metadata": {
    "pycharm": {
     "name": "#%%\n"
    }
   },
   "outputs": [],
   "source": [
    "with open('Data/emo_adj_new.json', \"r\") as infile:\n",
    "    emo_adj = json.load(infile)\n",
    "with open('Data/emo_verb_new.json', \"r\") as infile:\n",
    "    emo_verb = json.load(infile)\n",
    "\n",
    "emo_adj_pos, emo_adj_neg=polarize_emo(emo_adj)\n",
    "emo_verb_pos, emo_verb_neg=polarize_emo(emo_verb)\n",
    "\n",
    "emo_pos,emo_neg = {**emo_adj_pos, **emo_verb_pos}, {**emo_adj_neg, **emo_verb_neg}"
   ]
  },
  {
   "cell_type": "code",
   "execution_count": null,
   "id": "46bf25a6",
   "metadata": {
    "pycharm": {
     "name": "#%%\n"
    }
   },
   "outputs": [],
   "source": [
    "res={}\n",
    "cnt=0\n",
    "for w, _ in tqdm.tqdm(emo_pos.items()):\n",
    "    \n",
    "    prompt = \"\"\"\n",
    "    Judge if the INPUT word is describing positive emotion . Answer in English. Explain your reasoning then state the answer. Return =True= or =False=.\n",
    "    INPUT: %s.\n",
    "    OUTPUT:\n",
    "    \"\"\" % (w)\n",
    "    req = {\n",
    "        \"model\": model,\n",
    "        \"parameters\": params,\n",
    "        \"messages\": [\n",
    "            {\n",
    "                \"role\": ChatRole.USER,\n",
    "                \"content\": prompt\n",
    "            }\n",
    "        ]\n",
    "    }\n",
    "    \n",
    "    resp=test_chat(maas, req)\n",
    "\n",
    "    res[w]=resp\n",
    "    \n",
    "    cnt+=1\n",
    "    #if cnt>30:\n",
    "    #   break\n",
    "    #if cnt in (1000,2000,3000,4000,5000):\n",
    "    #    joblib.dump(res,'Data/tmp_terrible_exp_adj_part1_%d'%cnt)\n",
    "        \n",
    "    "
   ]
  },
  {
   "cell_type": "code",
   "execution_count": null,
   "id": "254012d0",
   "metadata": {
    "pycharm": {
     "name": "#%%\n"
    }
   },
   "outputs": [],
   "source": [
    "pos_bad2=[w for w,_ in res.items() if pos_bad_check(_)]\n",
    "\n",
    "len(pos_bad2)"
   ]
  },
  {
   "cell_type": "code",
   "execution_count": null,
   "id": "ae069e48",
   "metadata": {
    "pycharm": {
     "name": "#%%\n"
    }
   },
   "outputs": [],
   "source": [
    "with open(pycharm_dir+'/Data/emo_pos_badcases.json', 'w') as outfile:\n",
    "    json.dump(pos_bad2, outfile)"
   ]
  },
  {
   "cell_type": "markdown",
   "id": "39235135",
   "metadata": {
    "pycharm": {
     "name": "#%% md\n"
    }
   },
   "source": [
    "### Negative"
   ]
  },
  {
   "cell_type": "code",
   "execution_count": null,
   "id": "d9d789e3",
   "metadata": {
    "pycharm": {
     "name": "#%%\n"
    }
   },
   "outputs": [],
   "source": [
    "res2={}\n",
    "cnt=0\n",
    "for w, _ in tqdm.tqdm(emo_neg.items()):\n",
    "    \n",
    "    prompt = \"\"\"\n",
    "    Judge if the INPUT word is describing negative emotion . Answer in English. Explain your reasoning then state the answer. Return =True= or =False=.\n",
    "    INPUT: %s.\n",
    "    OUTPUT:\n",
    "    \"\"\" % (w)\n",
    "    req = {\n",
    "        \"model\": model,\n",
    "        \"parameters\": params,\n",
    "        \"messages\": [\n",
    "            {\n",
    "                \"role\": ChatRole.USER,\n",
    "                \"content\": prompt\n",
    "            }\n",
    "        ]\n",
    "    }\n",
    "    \n",
    "    resp=test_chat(maas, req)\n",
    "\n",
    "    res2[w]=resp\n",
    "    \n",
    "    cnt+=1\n",
    "    #if cnt>30:\n",
    "    #   break\n",
    "    #if cnt in (1000,2000,3000,4000,5000):\n",
    "    #    joblib.dump(res,'Data/tmp_terrible_exp_adj_part1_%d'%cnt)\n",
    "        \n",
    "    "
   ]
  },
  {
   "cell_type": "code",
   "execution_count": null,
   "id": "74f7eca2",
   "metadata": {
    "pycharm": {
     "name": "#%%\n"
    }
   },
   "outputs": [],
   "source": [
    "neg_bad2=[w for w,_ in res2.items() if neg_bad_check(_)]\n",
    "\n",
    "len(neg_bad2)"
   ]
  },
  {
   "cell_type": "code",
   "execution_count": null,
   "id": "80de38c7",
   "metadata": {
    "pycharm": {
     "name": "#%%\n"
    }
   },
   "outputs": [],
   "source": [
    "with open(pycharm_dir+'/Data/emo_neg_badcases.json', 'w') as outfile:\n",
    "    json.dump(neg_bad2, outfile)"
   ]
  },
  {
   "cell_type": "markdown",
   "id": "366e7315",
   "metadata": {
    "pycharm": {
     "name": "#%% md\n"
    }
   },
   "source": [
    "# Feeling"
   ]
  },
  {
   "cell_type": "markdown",
   "id": "0e975f38",
   "metadata": {
    "pycharm": {
     "name": "#%% md\n"
    }
   },
   "source": [
    "## SentiWordNet"
   ]
  },
  {
   "cell_type": "code",
   "execution_count": null,
   "id": "503540ab",
   "metadata": {
    "pycharm": {
     "name": "#%%\n"
    }
   },
   "outputs": [],
   "source": [
    "f = open('source/SentiWordNet_3.0.0.txt',\"r\") \n",
    "lines = f.readlines()\n",
    "\n",
    "def parser(x):\n",
    "    xx=x.split('\\t')\n",
    "    xx[5]=xx[5].replace('\\n','').replace('\\\\','').replace('\"','') # gloss\n",
    "    return xx\n",
    "\n",
    "_net=[]\n",
    "for line in lines:\n",
    "    if line[0]=='#':\n",
    "        continue\n",
    "    _net.append(parser(line))\n",
    "\n",
    "net=pd.DataFrame()\n",
    "net['POS'],net['ID'],net['PosScore'],net['NegScore'],net['SynsetTerms'],net['Gloss']=list(zip(*(_net)))\n",
    "\n",
    "net['NegScore']=pd.to_numeric(net['NegScore'])\n",
    "net['PosScore']=pd.to_numeric(net['PosScore'])\n",
    "\n",
    "net.to_csv('source/SentiWordNet3.csv')\n"
   ]
  },
  {
   "cell_type": "markdown",
   "id": "1a14945f",
   "metadata": {
    "pycharm": {
     "name": "#%% md\n"
    }
   },
   "source": [
    "## Round1"
   ]
  },
  {
   "cell_type": "code",
   "execution_count": null,
   "id": "825d1596",
   "metadata": {
    "pycharm": {
     "name": "#%%\n"
    }
   },
   "outputs": [],
   "source": [
    "sentinet=pd.read_csv('source/SentiWordNet3.csv')"
   ]
  },
  {
   "cell_type": "code",
   "execution_count": null,
   "id": "f622af87",
   "metadata": {
    "pycharm": {
     "name": "#%%\n"
    }
   },
   "outputs": [],
   "source": [
    "res={}\n",
    "cnt=0\n",
    "for st, gloss in tqdm.tqdm(zip(sentinet.loc[(sentinet.POS == 'a') & (sentinet.NegScore > 0.33), 'SynsetTerms'],sentinet.loc[(sentinet.POS == 'a') & (sentinet.NegScore > 0.33), 'Gloss'])):\n",
    "    \n",
    "    prompt = \"\"\"\n",
    "    Judge if the INPUT is describing terrible experience. Answer in English. Explain your reasoning then state the answer. Return =True= or =False=.\n",
    "    INPUT: %s.\n",
    "    OUTPUT:\n",
    "    \"\"\" % (gloss)\n",
    "    \n",
    "    response = client.chat.completions.create(\n",
    "    model=\"glm-4\",  \n",
    "    messages=[\n",
    "        {\"role\": \"user\", \"content\": \"%s\"%prompt},\n",
    "    ],\n",
    ")\n",
    "    \n",
    "    res[st]={}\n",
    "    res[st]['gloss']=gloss\n",
    "    res[st]['answer']=response.choices[0].message\n",
    "    \n",
    "    cnt+=1\n",
    "    #if cnt>100:\n",
    "    #    break\n",
    "    if cnt in (1000,2000,3000,4000,5000):\n",
    "        joblib.dump(res,'Data/tmp_terrible_exp_adj_part1_%d'%cnt)\n",
    "        \n",
    "    "
   ]
  },
  {
   "cell_type": "code",
   "execution_count": null,
   "id": "c359118d",
   "metadata": {
    "pycharm": {
     "name": "#%%\n"
    }
   },
   "outputs": [],
   "source": [
    "neg_exp_synset={}\n",
    "for st, info in res.items():\n",
    "    if isinstance(info['answer'],str) and 'True' in info['answer']:\n",
    "        neg_exp_synset[st]=info['gloss']\n",
    "\n",
    "joblib.dump(neg_exp_synset,'Data/neg_exp_synset.p1')"
   ]
  },
  {
   "cell_type": "markdown",
   "id": "08969dfc",
   "metadata": {
    "pycharm": {
     "name": "#%% md\n"
    }
   },
   "source": [
    "## Round2"
   ]
  },
  {
   "cell_type": "markdown",
   "id": "d08a8fb4",
   "metadata": {
    "pycharm": {
     "name": "#%% md\n"
    }
   },
   "source": [
    "    To further improve acc, use llm to directly filter out badcases at word level."
   ]
  },
  {
   "cell_type": "code",
   "execution_count": null,
   "id": "33ec98f5",
   "metadata": {
    "pycharm": {
     "name": "#%%\n"
    }
   },
   "outputs": [],
   "source": [
    "neg_adj = {}\n",
    "for st,gloss in neg_exp_synset.items():\n",
    "    for x in st.split(' '):\n",
    "        neg_adj[x.split('#')[0]] = 1"
   ]
  },
  {
   "cell_type": "code",
   "execution_count": null,
   "id": "6122cc85",
   "metadata": {
    "pycharm": {
     "name": "#%%\n"
    }
   },
   "outputs": [],
   "source": [
    "res2={}\n",
    "cnt=0\n",
    "for w, _ in tqdm.tqdm(neg_adj.items()):\n",
    "    prompt = \"\"\"\n",
    "    Judge if the INPUT word is describing terrible experience. Answer in English. Explain your reasoning then state the answer. Return =True= or =False=.\n",
    "    INPUT: %s.\n",
    "    OUTPUT:\n",
    "    \"\"\" % (w)\n",
    "    \n",
    "    response = client.chat.completions.create(\n",
    "    model=\"glm-4\",  \n",
    "    messages=[\n",
    "        {\"role\": \"user\", \"content\": \"%s\"%prompt},\n",
    "    ],\n",
    "    )\n",
    "    \n",
    "    cnt+=1\n",
    "    #if cnt>100:\n",
    "    #    break\n",
    "    if cnt in (500,1000,1500,2000,2500):\n",
    "        joblib.dump(res2,'Data/tmp_terrible_exp_adj_part_%d.v2'%cnt)\n",
    "        \n",
    "    res2[w]=response.choices[0].message\n",
    "    \n",
    "joblib.dump(res2,'Data/tmp_terrible_exp_adj_part_all.v2')"
   ]
  },
  {
   "cell_type": "code",
   "execution_count": null,
   "id": "4711090d",
   "metadata": {
    "pycharm": {
     "name": "#%%\n"
    }
   },
   "outputs": [],
   "source": [
    "neg_adj={}\n",
    "for w, resp in res2.items():\n",
    "    if isinstance(resp,str) and 'True' in resp:\n",
    "        neg_adj[w]=1\n",
    "\n",
    "with open('Data/neg_exp_adj.json', 'w') as outfile:\n",
    "    json.dump(neg_adj, outfile)"
   ]
  },
  {
   "cell_type": "markdown",
   "id": "d07f8067",
   "metadata": {
    "pycharm": {
     "name": "#%% md\n"
    }
   },
   "source": [
    "    As currently we have no way to decide which sense of a word should be used, if we use sense text from wordnet as input of LLM, noise would be introduced. In contrast, directly inputting word text gives better performance, as LLM output yes or no based on common sense knowledge, which more complies with human's judgements. "
   ]
  },
  {
   "cell_type": "markdown",
   "id": "2b9f6e60",
   "metadata": {
    "pycharm": {
     "name": "#%% md\n"
    }
   },
   "source": [
    "# ActionType"
   ]
  },
  {
   "cell_type": "code",
   "execution_count": null,
   "id": "108510f4",
   "metadata": {
    "pycharm": {
     "name": "#%%\n"
    }
   },
   "outputs": [],
   "source": [
    "noun,verb,adj,adv=joblib.load('source/wordset')"
   ]
  },
  {
   "cell_type": "code",
   "execution_count": null,
   "id": "0c0ec0a2",
   "metadata": {
    "pycharm": {
     "name": "#%%\n"
    }
   },
   "outputs": [],
   "source": [
    "res={}\n",
    "cnt=0\n",
    "for w in tqdm.tqdm(verb):\n",
    "    \n",
    "    prompt = \"\"\"\n",
    "    Mental: a mental action happens inside human beings and isn't visible. You engage in covert behaviour when you think since no one can see you thinking.\n",
    "\n",
    "    Physical: a physical action is a behaviour that's visible and happens outside of human beings. Examples of overt behaviour include eating or drinking something and taking part in sports, such as football or riding a bicycle.\n",
    "\n",
    "    Social: social behavior accounts for actions directed at others. It is concerned with the considerable influence of social interaction and culture, as well as ethics, interpersonal relationships, politics, and conflict.\n",
    "\n",
    "    Judge the class that the INPUT action belongs to. Answer in English. Explain your reasoning then state the answer. Return =Mental= or =Physical= or =Social=.\n",
    "    INPUT: %s.\n",
    "    OUTPUT:\n",
    "    \"\"\" % (w)\n",
    "    \n",
    "    response = client.chat.completions.create(\n",
    "    model=\"glm-4\",  \n",
    "    messages=[\n",
    "        {\"role\": \"user\", \"content\": \"%s\"%prompt},\n",
    "    ],\n",
    "    )\n",
    "    \n",
    "\n",
    "    res[w]=response.choices[0].message\n",
    "    \n",
    "    cnt+=1\n",
    "    \n",
    "    #if cnt>30:\n",
    "    #    break\n",
    "    if cnt in (10,1000,2000,3000,4000,5000):\n",
    "        joblib.dump(res,'Data/action_type_%d'%cnt)\n",
    "        \n",
    "joblib.dump(res,'Data/action_type')    "
   ]
  },
  {
   "cell_type": "code",
   "execution_count": null,
   "id": "73a617bd",
   "metadata": {
    "pycharm": {
     "name": "#%%\n"
    }
   },
   "outputs": [],
   "source": [
    "mental={}\n",
    "physical={}\n",
    "social={}\n",
    "unknown={}\n",
    "\n",
    "for w, resp in res.items():\n",
    "    # a word might be in multiple categories\n",
    "    if isinstance(resp,str):\n",
    "        if 'Mental' in resp or 'mental' in resp or 'not visible' in resp or \"isn't visible\" in resp or \"aren't visible\" in resp or \\\n",
    "            'happens inside' in resp or 'happen inside' in resp:\n",
    "            mental[w]=resp\n",
    "        if 'Physical' in resp or 'physical' in resp or 'happens outside' in resp or 'happen outside' in resp:\n",
    "            physical[w]=resp\n",
    "        if 'Social' in resp or 'social' in resp:\n",
    "            social[w]=resp\n",
    "\n",
    "for w, resp in res.items():\n",
    "    if not (w in mental or w in physical or w in social):\n",
    "        unknown[w]=resp\n",
    "\n",
    "print(\"Mental: %d\"%len(mental))\n",
    "print(\"Physical: %d\"%len(physical))\n",
    "print(\"Social: %d\"%len(social))\n",
    "print(\"Unknown: %d\"%len(unknown))\n",
    "\n",
    "joblib.dump((mental,physical,social,unknown), 'Data/action_type_set')"
   ]
  },
  {
   "cell_type": "code",
   "execution_count": null,
   "id": "b8d5e06c",
   "metadata": {
    "pycharm": {
     "name": "#%%\n"
    }
   },
   "outputs": [],
   "source": [
    "action_type={}\n",
    "action_type['mental']=mental\n",
    "action_type['physical']=physical\n",
    "action_type['social']=social\n",
    "action_type['unknown']=unknown\n",
    "\n",
    "with open('Data/action_type.json', \"w\") as outfile:\n",
    "    json.dump(action_type, outfile)"
   ]
  },
  {
   "cell_type": "code",
   "execution_count": null,
   "id": "f5d8880a",
   "metadata": {
    "pycharm": {
     "name": "#%%\n"
    }
   },
   "outputs": [],
   "source": [
    "cnt=0\n",
    "for w,resp in mental.items():\n",
    "    print(w)\n",
    "    print(resp)\n",
    "    print('\\n') \n",
    "    cnt+=1\n",
    "    if cnt>10:\n",
    "        break"
   ]
  }
 ],
 "metadata": {
  "kernelspec": {
   "display_name": "py36",
   "language": "python",
   "name": "py36"
  },
  "language_info": {
   "codemirror_mode": {
    "name": "ipython",
    "version": 3
   },
   "file_extension": ".py",
   "mimetype": "text/x-python",
   "name": "python",
   "nbconvert_exporter": "python",
   "pygments_lexer": "ipython3",
   "version": "3.6.15"
  },
  "toc": {
   "base_numbering": 1,
   "nav_menu": {},
   "number_sections": true,
   "sideBar": true,
   "skip_h1_title": false,
   "title_cell": "Table of Contents",
   "title_sidebar": "Contents",
   "toc_cell": false,
   "toc_position": {
    "height": "calc(100% - 180px)",
    "left": "10px",
    "top": "150px",
    "width": "165px"
   },
   "toc_section_display": true,
   "toc_window_display": true
  }
 },
 "nbformat": 4,
 "nbformat_minor": 5
}