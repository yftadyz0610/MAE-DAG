{
 "cells": [
  {
   "cell_type": "markdown",
   "source": [
    "        Visualize DAG given review ID."
   ],
   "metadata": {
    "collapsed": false,
    "pycharm": {
     "name": "#%% md\n"
    }
   }
  },
  {
   "cell_type": "markdown",
   "id": "3de1e955",
   "metadata": {
    "pycharm": {
     "name": "#%% md\n"
    }
   },
   "source": [
    "    Update: Turns out Pyvis (and IFrame) needs the HTML file and the Jupyter Notebook in the same folder for it to be shown correctly (otherwise the notebook throws the 404 error). So, by simply putting the HTML with the notebook in the same working directory, it all went well."
   ]
  },
  {
   "cell_type": "code",
   "execution_count": 1,
   "id": "323ad1c3",
   "metadata": {
    "pycharm": {
     "name": "#%%\n"
    }
   },
   "outputs": [],
   "source": [
    "import importlib\n",
    "import sys\n",
    "import pickle\n",
    "import os\n",
    "import joblib\n",
    "\n",
    "import blink\n",
    "from blink import Mapper,Node,Counter\n",
    "importlib.reload(blink)\n",
    "\n",
    "import render\n",
    "importlib.reload(render)\n",
    "\n",
    "source_dir='./'\n"
   ]
  },
  {
   "cell_type": "code",
   "execution_count": 34,
   "id": "6235ba44",
   "metadata": {
    "pycharm": {
     "name": "#%%\n"
    }
   },
   "outputs": [],
   "source": [
    "VERSION = 'v3.2-SingleNeed'\n",
    "\n",
    "aser = joblib.load(source_dir+'Data/amazon_food_review_aser_event_for_valid_all.%s'%VERSION)\n",
    "\n",
    "restore=joblib.load(source_dir+'Data/amazon_food_review_aser_event_restore_for_valid_all.%s'%VERSION)\n",
    "\n",
    "with open(source_dir+'Data/experience_valid_all.%s'%VERSION,'rb') as infile:\n",
    "    res=pickle.load(infile)"
   ]
  },
  {
   "cell_type": "code",
   "execution_count": null,
   "id": "ae29261e",
   "metadata": {
    "pycharm": {
     "name": "#%%\n"
    }
   },
   "outputs": [],
   "source": [
    "# restore[text_id]\n",
    "# aser[text_id]['sentences']\n",
    "\n",
    "text_id=267765\n",
    "\n",
    "title=', '.join([xx.__repr__() for x in aser[text_id]['aser'] for xx in x])\n",
    "print(title)\n",
    "print('\\n')\n",
    "print(restore[text_id])\n",
    "nt,status=render.render(res[text_id]['mapper'],only_active=True)\n",
    "nt.show('_.html')"
   ]
  }
 ],
 "metadata": {
  "kernelspec": {
   "display_name": "py36",
   "language": "python",
   "name": "py36"
  },
  "language_info": {
   "codemirror_mode": {
    "name": "ipython",
    "version": 3
   },
   "file_extension": ".py",
   "mimetype": "text/x-python",
   "name": "python",
   "nbconvert_exporter": "python",
   "pygments_lexer": "ipython3",
   "version": "3.6.15"
  },
  "toc": {
   "base_numbering": 1,
   "nav_menu": {},
   "number_sections": true,
   "sideBar": true,
   "skip_h1_title": false,
   "title_cell": "Table of Contents",
   "title_sidebar": "Contents",
   "toc_cell": false,
   "toc_position": {
    "height": "calc(100% - 180px)",
    "left": "10px",
    "top": "150px",
    "width": "165px"
   },
   "toc_section_display": true,
   "toc_window_display": true
  }
 },
 "nbformat": 4,
 "nbformat_minor": 5
}